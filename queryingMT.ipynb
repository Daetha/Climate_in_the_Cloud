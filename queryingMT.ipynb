{
 "cells": [
  {
   "cell_type": "code",
   "execution_count": 1,
   "id": "97ee62a3",
   "metadata": {},
   "outputs": [
    {
     "name": "stdout",
     "output_type": "stream",
     "text": [
      "Requirement already satisfied: mysql-connector-python in /home/ec2-user/anaconda3/envs/python3/lib/python3.10/site-packages (8.3.0)\r\n"
     ]
    }
   ],
   "source": [
    "!pip install  mysql-connector-python"
   ]
  },
  {
   "cell_type": "code",
   "execution_count": 2,
   "id": "aa2691bf",
   "metadata": {},
   "outputs": [],
   "source": [
    "import time\n",
    "import numpy as np "
   ]
  },
  {
   "cell_type": "code",
   "execution_count": 3,
   "id": "e57d450a",
   "metadata": {
    "scrolled": true
   },
   "outputs": [],
   "source": [
    "import mysql.connector\n",
    "\n",
    "conn = mysql.connector.connect(\n",
    "    #database=\"climadb-master\",\n",
    "    user=\"\",\n",
    "    password=\"\", \n",
    "    host=\".rds.amazonaws.com\",\n",
    "    port=\"3306\"\n",
    ")"
   ]
  },
  {
   "cell_type": "code",
   "execution_count": 4,
   "id": "3a5de93d",
   "metadata": {
    "scrolled": true
   },
   "outputs": [],
   "source": [
    "cursor = conn.cursor()"
   ]
  },
  {
   "cell_type": "code",
   "execution_count": 5,
   "id": "5c31911e",
   "metadata": {},
   "outputs": [
    {
     "name": "stdout",
     "output_type": "stream",
     "text": [
      "DWD CARDIHNALITY: [(720,)]\n"
     ]
    }
   ],
   "source": [
    "#cursor.execute(\"CREATE DATABASE clima_database\")\n",
    "cursor.execute(\"USE clima_integra\")  \n",
    "cursor.execute(\"SELECT COUNT(*) FROM DWDtest1 \")\n",
    "print(f\"DWD CARDIHNALITY: {cursor.fetchall()}\")"
   ]
  },
  {
   "cell_type": "code",
   "execution_count": 6,
   "id": "23191912",
   "metadata": {},
   "outputs": [
    {
     "name": "stdout",
     "output_type": "stream",
     "text": [
      "['id', 'station_id', 'datetime', 'name', 'lattitude', 'longitude', 'height', 'wind_speed', 'wind_direct', 'temp', 'humidity', 'prec_mm', 'prec_form', 'sun_dur', 'cloudy', 'extreme_wind_speed', 'humidity_abs', 'temp_wet_bulb', 'pres_sealvl', 'pres', 'soil_temp_5', 'soil_temp_10', 'soil_temp_20', 'soil_temp_50', 'soil_temp_100']\n"
     ]
    }
   ],
   "source": [
    "cursor.fetchall()\n",
    "cursor.execute(\"DESCRIBE DWD\")\n",
    "columns = cursor.fetchall()\n",
    "\n",
    "# Extract column names\n",
    "column_names = [column[0] for column in columns]\n",
    "print(column_names)"
   ]
  },
  {
   "cell_type": "code",
   "execution_count": 7,
   "id": "04a79738",
   "metadata": {},
   "outputs": [],
   "source": [
    "import boto3\n",
    "\n",
    "# Create a Timestream Query client\n",
    "timestream_query_client = boto3.client('timestream-query')"
   ]
  },
  {
   "cell_type": "code",
   "execution_count": 8,
   "id": "5d3d6828",
   "metadata": {},
   "outputs": [
    {
     "name": "stdout",
     "output_type": "stream",
     "text": [
      "['latt' 'name' 'long' 'height' 'measure_name' 'time' 'TT_TU' 'ABSF_STD'\n",
      " 'RF_TU' 'TF_STD' 'R1' 'P0' 'V_TE020' 'V_TE010' 'V_TE100' 'V_N' 'V_TE050'\n",
      " 'V_TE005' 'P' 'WRTR' 'FX_911' 'SD_SO' 'D' 'F']\n"
     ]
    }
   ],
   "source": [
    "def tq (q, dtype, verbose = True):\n",
    "    \n",
    "    # Query to describe the table\n",
    "    query_response = timestream_query_client.query(\n",
    "        QueryString=q\n",
    "    )\n",
    "\n",
    "    # Extract the column names\n",
    "    answer = [row['Data'][0][dtype] for row in query_response['Rows']]\n",
    "    #answer = query_response['Rows']['Data']\n",
    "    answer = np.array(answer)\n",
    "    \n",
    "    if verbose:\n",
    "        print(answer)\n",
    "    return answer\n",
    "\n",
    "answer = tq('DESCRIBE \"myclimab\".\"clima-integra\"', dtype = 'ScalarValue')"
   ]
  },
  {
   "cell_type": "code",
   "execution_count": 9,
   "id": "9046ae23",
   "metadata": {},
   "outputs": [
    {
     "name": "stdout",
     "output_type": "stream",
     "text": [
      "['720']\n",
      "Cardinality: ['720']\n"
     ]
    }
   ],
   "source": [
    "answer = tq('SELECT COUNT(*) FROM \"myclimab\".\"clima-integra\"', dtype='ScalarValue')\n",
    "print(f\"Cardinality: {answer}\")"
   ]
  },
  {
   "cell_type": "markdown",
   "id": "466d8dd5",
   "metadata": {},
   "source": [
    "### Experiment condition 1: monitoring"
   ]
  },
  {
   "cell_type": "code",
   "execution_count": 13,
   "id": "bc403f0c",
   "metadata": {},
   "outputs": [],
   "source": [
    "#MySQL: max of the latest\n",
    "import random\n",
    "\n",
    "monitoring_vars = ['prec_mm','extreme_wind_speed','humidity_abs','temp_wet_bulb' ,'pres']\n",
    "timer_SQL_1_1 =[]\n",
    "i = 0\n",
    "query = \"\"\"\n",
    "    WITH cte AS (\n",
    "        SELECT \n",
    "            station_id, \n",
    "            (SELECT MAX(datetime) \n",
    "            FROM DWD \n",
    "            WHERE station_id = d.station_id AND {0} IS NOT NULL) AS dt_v1\n",
    "        FROM DWD d\n",
    "        GROUP BY station_id\n",
    "    )\n",
    "    SELECT \n",
    "        data.station_id,\n",
    "        data.{0}\n",
    "    FROM DWD AS data\n",
    "    RIGHT JOIN cte ON (cte.dt_v1 = data.datetime AND cte.station_id = data.station_id)\n",
    "    ORDER BY data.{0} DESC\n",
    "    LIMIT 1\n",
    "\"\"\"\n",
    "# we run it only once,as it appeared to be a vary slow query\n",
    "while i < 1:\n",
    "    v1 = random.choice(monitoring_vars)\n",
    "    start_time = time.time()\n",
    "\n",
    "    cursor.execute(query.format(v1))\n",
    "    end_time = time.time()\n",
    "    monitoring_result = cursor.fetchall()\n",
    "    execution_time = end_time - start_time\n",
    "    #print(f\"a result with max {v1} is station, value: {monitoring_result}\")\n",
    "    timer_SQL_1_1.append(execution_time)\n",
    "    i += 1"
   ]
  },
  {
   "cell_type": "code",
   "execution_count": 14,
   "id": "21804d43",
   "metadata": {},
   "outputs": [
    {
     "data": {
      "text/plain": [
       "[]"
      ]
     },
     "execution_count": 14,
     "metadata": {},
     "output_type": "execute_result"
    }
   ],
   "source": [
    "cursor.fetchall()"
   ]
  },
  {
   "cell_type": "code",
   "execution_count": 15,
   "id": "ca5419ac",
   "metadata": {},
   "outputs": [],
   "source": [
    "# MySQL: the latest max data overall (na-friendly) and maximal station observation\n",
    "monitoring_vars = ['prec_mm','extreme_wind_speed','humidity_abs','temp_wet_bulb' ,'pres']\n",
    "\n",
    "timer_SQL_1_2 = []\n",
    "query = \"\"\"\n",
    "    SELECT station_id, {0}\n",
    "    FROM DWD\n",
    "    WHERE datetime = (SELECT MAX(datetime) FROM DWD)\n",
    "    ORDER BY {0} DESC\n",
    "    LIMIT 1\n",
    "\"\"\"\n",
    "for _ in range(80):\n",
    "    v1 = random.choice(monitoring_vars)\n",
    "    start_time = time.time()\n",
    "\n",
    "    cursor.execute(query.format(v1))\n",
    "    end_time = time.time()\n",
    "    monitoring_result = cursor.fetchall()\n",
    "    execution_time = end_time - start_time\n",
    "    #print(f\"warning, station with max {v1} is {monitoring_result}\")\n",
    "    timer_SQL_1_2.append(execution_time)"
   ]
  },
  {
   "cell_type": "code",
   "execution_count": 16,
   "id": "09fbf924",
   "metadata": {},
   "outputs": [
    {
     "name": "stdout",
     "output_type": "stream",
     "text": [
      "[[{'ScalarValue': 'Airport-Berlin-Brandenburg'}, {'ScalarValue': '1001.0'}]]\n"
     ]
    }
   ],
   "source": [
    "# timestream: the latest actual observation\n",
    "monitoring_vars = ['P0','TT_TU','RF_TU','R1','ABSF_STD']\n",
    "# Create a Timestream Query client\n",
    "timestream_query_client = boto3.client('timestream-query')\n",
    "timer_TS_1_1 =[]\n",
    "query_template = '''\n",
    "    WITH latest_records AS (\n",
    "        SELECT \n",
    "            name,\n",
    "            max_by({0}, time) AS latest_v1\n",
    "        FROM \"myclimab\".\"clima-integra\"\n",
    "        GROUP BY name\n",
    "    )\n",
    "    SELECT \n",
    "        name,\n",
    "        latest_v1\n",
    "    FROM latest_records\n",
    "    WHERE latest_v1 = (SELECT max(latest_v1) FROM latest_records)\n",
    "'''\n",
    "\n",
    "for _ in range(80):\n",
    "    v1 = random.choice(monitoring_vars)\n",
    "    start_time = time.time()\n",
    "    query_response = timestream_query_client.query(\n",
    "        QueryString=query_template.format(v1)\n",
    "    )\n",
    "    end_time = time.time()\n",
    "    execution_time = end_time - start_time\n",
    "    timer_TS_1_1.append(execution_time)\n",
    "\n",
    "# Extract the query results\n",
    "query1 = [row['Data'] for row in query_response['Rows']]\n",
    "\n",
    "print(query1)"
   ]
  },
  {
   "cell_type": "code",
   "execution_count": 17,
   "id": "e023223d",
   "metadata": {},
   "outputs": [
    {
     "name": "stdout",
     "output_type": "stream",
     "text": [
      "[[{'ScalarValue': 'Berlin-Dahlem-FU'}, {'ScalarValue': '6.3'}]] for variable  ABSF_STD\n"
     ]
    }
   ],
   "source": [
    "# Timestream: the latest data overall (na-friendly) and the max station\n",
    "monitoring_vars = ['P0','TT_TU','RF_TU','R1','ABSF_STD']\n",
    "\n",
    "timer_TS_1_2 = []\n",
    "query_template = '''\n",
    "    WITH latest_time AS (\n",
    "        SELECT \n",
    "            max(time) AS latest_time\n",
    "        FROM \"myclimab\".\"clima-integra\"\n",
    "    )\n",
    "    \n",
    "    SELECT \n",
    "            name,\n",
    "            {0} AS max_v1\n",
    "        FROM \"myclimab\".\"clima-integra\"\n",
    "        WHERE time = (SELECT latest_time FROM latest_time)\n",
    "        ORDER BY max_v1 DESC\n",
    "        LIMIT 1    \n",
    "'''\n",
    "for _ in range(80):\n",
    "    v1 = random.choice(monitoring_vars)\n",
    "    start_time = time.time()\n",
    "    query_response = timestream_query_client.query(\n",
    "        QueryString=query_template.format(v1)\n",
    "    )\n",
    "    end_time = time.time()\n",
    "    execution_time = end_time - start_time\n",
    "    timer_TS_1_2.append(execution_time)\n",
    "\n",
    "# Extract the query results\n",
    "query1 = [row['Data'] for row in query_response['Rows']]\n",
    "\n",
    "print(query1 , \"for variable \",v1)"
   ]
  },
  {
   "cell_type": "code",
   "execution_count": 18,
   "id": "a7876c02",
   "metadata": {},
   "outputs": [
    {
     "data": {
      "image/png": "[encoded data removed]",
      "text/plain": [
       "<Figure size 1500x1000 with 3 Axes>"
      ]
     },
     "metadata": {},
     "output_type": "display_data"
    }
   ],
   "source": [
    "import matplotlib.pyplot as plt\n",
    "\n",
    "fig, axs = plt.subplots(1, 3, figsize=(15, 10))\n",
    "\n",
    "# Subplot 1\n",
    "axs[0].plot(timer_TS_1_2, label='Timestream')\n",
    "axs[0].plot(timer_SQL_1_2, label='MySQL')\n",
    "axs[0].set_title('Na-friendly setup. MySQL wins')\n",
    "axs[0].set_xlabel('Query order')\n",
    "axs[0].set_ylabel('Query processing time (in seconds)')\n",
    "axs[0].legend()\n",
    "\n",
    "# Subplot 2\n",
    "axs[1].plot(timer_TS_1_1, label='Timestream')\n",
    "axs[1].plot(timer_SQL_1_1, label='MySQL')\n",
    "axs[1].set_title('Latest actual record setup. Timestream wins')\n",
    "axs[1].set_xlabel('Query order')\n",
    "axs[1].set_ylabel('Query processing time (in seconds)')\n",
    "axs[1].legend()\n",
    "\n",
    "# Subplot 3\n",
    "axs[2].plot(timer_TS_1_1, label='Timestream: latest real record')\n",
    "axs[2].plot(timer_TS_1_2, label='Timestream: na friendly')\n",
    "axs[2].set_title('Timestream: max-by is as efficient as getting the latest data')\n",
    "axs[2].set_xlabel('Query order')\n",
    "axs[2].set_ylabel('Query processing time (in seconds)')\n",
    "axs[2].legend()\n",
    "\n",
    "plt.tight_layout()\n",
    "plt.show()"
   ]
  },
  {
   "cell_type": "code",
   "execution_count": null,
   "id": "9e2774f6",
   "metadata": {
    "scrolled": false
   },
   "outputs": [],
   "source": [
    "import matplotlib.pyplot as plt\n",
    "import numpy as np\n",
    "\n",
    "# Remove the first element from timest_timer\n",
    "timest_timer_adj = timer_TS_1_1[1:]\n",
    "\n",
    "# Generate x values\n",
    "x = np.arange(len(timest_timer_adj))\n",
    "\n",
    "# Fit a polynomial of degree 1 to the data\n",
    "coefficients = np.polyfit(x, timest_timer_adj, 1)\n",
    "\n",
    "# Create a polynomial function\n",
    "polynomial = np.poly1d(coefficients)\n",
    "\n",
    "# Generate y values for the fitted line\n",
    "y_fit = polynomial(x)\n",
    "\n",
    "# Plot the original data\n",
    "plt.plot(timest_timer_adj, label='Original data')\n",
    "\n",
    "# Plot the fitted line\n",
    "plt.plot(x, y_fit, color='orange', label='Fitted line')\n",
    "\n",
    "# Add a legend\n",
    "plt.legend()\n",
    "plt.title('Timestream: latency decrease. Linear model')\n",
    "plt.figtext(0.5, 0.01, 'Query number 1 omitted as outlier', ha='center', va='center')\n",
    "plt.xlabel('Query order')\n",
    "plt.ylabel('Latency')\n",
    "# Show the plot\n",
    "plt.show()"
   ]
  },
  {
   "cell_type": "code",
   "execution_count": null,
   "id": "f5afdc05",
   "metadata": {},
   "outputs": [],
   "source": [
    "plt.plot(timer)\n",
    "plt.title('MySQL: dispersion increases from query to query')\n",
    "plt.xlabel('Query order')\n",
    "plt.ylabel('Latency')"
   ]
  },
  {
   "cell_type": "code",
   "execution_count": null,
   "id": "a374fdf1",
   "metadata": {
    "scrolled": false
   },
   "outputs": [],
   "source": [
    "import matplotlib.pyplot as plt\n",
    "import numpy as np\n",
    "\n",
    "# Define the bin edges\n",
    "bins = np.linspace(min(min(timer), min(timest_timer)), max(max(timer), max(timest_timer)), 21)\n",
    "\n",
    "# Create a histogram\n",
    "plt.hist(timer, bins=bins, edgecolor='black', color='blue', label='MySQL')\n",
    "plt.hist(timest_timer, bins=bins, edgecolor='black', color='orange', label='Timestream')\n",
    "\n",
    "# Add title and labels\n",
    "plt.title('Histogram of Execution Times for the purpose of monitoring')\n",
    "plt.xlabel('Execution Time (seconds)')\n",
    "plt.ylabel('Frequency')\n",
    "\n",
    "# Add a legend\n",
    "plt.legend()\n",
    "\n",
    "# Show the plot\n",
    "plt.show()"
   ]
  },
  {
   "cell_type": "markdown",
   "id": "2be742a7",
   "metadata": {},
   "source": [
    "task 2: find the hottest soil in germany. for 2 stations with highest median temp output all soil temperatures for 5 days \n",
    "task 2.5 binned by 6 hours"
   ]
  },
  {
   "cell_type": "code",
   "execution_count": null,
   "id": "33fb681c",
   "metadata": {},
   "outputs": [],
   "source": [
    "monitoring_vars = [\"V_TE002\",'V_TE005','V_TE010','V_TE020','V_TE050','V_TE100']\n",
    "# Create a Timestream Query client\n",
    "# BIN(time, 10m) AS binnedTime\n",
    "timer_TS_2_1 =[]\n",
    "query = '''\n",
    "SELECT              \n",
    "V_TE005,        \n",
    "V_TE010,       \n",
    "V_TE020,\n",
    "V_TE050,              \n",
    "V_TE100,\n",
    "name,\n",
    "time \n",
    "FROM \"myclimab\".\"clima-integra\"\n",
    "WHERE time BETWEEN ago(10d) AND ago(5d)\n",
    "\tAND measure_name = 'soil_temperature'\n",
    "\t\n",
    "\tAND name IN (\n",
    "\t\tSELECT name\n",
    "\t\tFROM \"myclimab\".\"clima-integra\"\n",
    "\t\tGROUP BY name\n",
    "\t\tORDER BY avg(TT_TU) ASC\n",
    "\t\t\t,name LIMIT 2\n",
    "\t\t)\n",
    "'''\n",
    "for _ in range(80):\n",
    "    \n",
    "    start_time = time.time()\n",
    "    query_response = timestream_query_client.query(\n",
    "            QueryString=query\n",
    "        )\n",
    "    end_time = time.time()\n",
    "    execution_time = end_time - start_time\n",
    "    timer_TS_2_1.append(execution_time)\n",
    "\n",
    "# Extract the query results\n",
    "#query1 = [row['Data'] for row in query_response['Rows']]"
   ]
  },
  {
   "cell_type": "code",
   "execution_count": null,
   "id": "ba0d4112",
   "metadata": {},
   "outputs": [],
   "source": [
    "# First query to get the top 2 names\n",
    "query1 = '''\n",
    "    SELECT name\n",
    "    FROM \"myclimab\".\"clima-integra\"\n",
    "    GROUP BY name\n",
    "    ORDER BY avg(TT_TU) ASC\n",
    "    LIMIT 2\n",
    "'''\n",
    "\n",
    "response1 = timestream_query_client.query(QueryString=query1)\n",
    "top_names = [row['Data'][0]['ScalarValue'] for row in response1['Rows']]\n",
    "\n",
    "# Second query using the result of the first query\n",
    "query2 = f'''\n",
    "    SELECT V_TE005, V_TE010, V_TE020, V_TE050, V_TE100, name, time\n",
    "    FROM \"myclimab\".\"clima-integra\"\n",
    "    WHERE time BETWEEN ago(10d) AND ago(5d)\n",
    "    AND measure_name = 'soil_temperature'\n",
    "    AND name IN ({\", \".join([\"'\" + name + \"'\" for name in top_names])})\n",
    "'''\n",
    "response1 = timestream_query_client.query(QueryString=query1)\n",
    "top_names = [row['Data'][0]['ScalarValue'] for row in response1['Rows']]\n",
    "\n",
    "timer_TS_2_2 = []\n",
    "\n",
    "for i in range(80):\n",
    "    start_time = time.time()\n",
    "    \n",
    "    # On the very first iteration execute this\n",
    "    if i == 0:\n",
    "        response1 = timestream_query_client.query(QueryString=query1)\n",
    "        top_names = [row['Data'][0]['ScalarValue'] for row in response1['Rows']]\n",
    "    \n",
    "    # Go further as planned\n",
    "    query_response = timestream_query_client.query(QueryString=query2)\n",
    "    \n",
    "    end_time = time.time()\n",
    "    execution_time = end_time - start_time\n",
    "    timer_TS_2_2.append(execution_time)"
   ]
  },
  {
   "cell_type": "code",
   "execution_count": null,
   "id": "3ca5a6a3",
   "metadata": {},
   "outputs": [],
   "source": [
    "# Create a temporary table\n",
    "cursor.execute('''\n",
    "    CREATE TEMPORARY TABLE temp_table AS\n",
    "    SELECT name\n",
    "    FROM DWD\n",
    "    GROUP BY name\n",
    "    ORDER BY AVG(temp) ASC, name\n",
    "    LIMIT 2\n",
    "''')\n",
    "\n",
    "# Execute the main query\n",
    "query = '''\n",
    "    SELECT \n",
    "        soil_temp_5 ,\n",
    "        soil_temp_10 ,\n",
    "        soil_temp_20 ,\n",
    "        soil_temp_50 ,\n",
    "        soil_temp_100, \n",
    "        name,\n",
    "        datetime\n",
    "    FROM DWD\n",
    "    WHERE datetime BETWEEN DATE_SUB(NOW(), INTERVAL 10 DAY) \n",
    "                            AND DATE_SUB(NOW(), INTERVAL 5 DAY)\n",
    "    AND name IN (SELECT name FROM temp_table)\n",
    "'''\n",
    "\n",
    "timer_SQL_2_1 = []\n",
    "for _ in range(80):\n",
    "    start_time = time.time()\n",
    "    cursor.execute(query)\n",
    "    end_time = time.time()\n",
    "    monitoring_result = cursor.fetchall()\n",
    "    execution_time = end_time - start_time\n",
    "    #print(monitoring_result)\n",
    "    timer_SQL_2_1.append(execution_time)\n",
    "\n",
    "# Drop the temporary table\n",
    "cursor.execute('DROP TABLE temp_table')"
   ]
  },
  {
   "cell_type": "code",
   "execution_count": null,
   "id": "f5e67c58",
   "metadata": {
    "scrolled": true
   },
   "outputs": [],
   "source": [
    "import matplotlib.pyplot as plt\n",
    "\n",
    "plt.figure(figsize=(10, 6))\n",
    "\n",
    "# Plot timest_timer2\n",
    "plt.plot(timer_TS_2_1, label='timestream_cte')\n",
    "\n",
    "# Plot timest_timer3\n",
    "plt.plot(timer_TS_2_2, label='timest_separate_queries')\n",
    "\n",
    "plt.plot(timer_SQL_2_1, label='mysql_temporary_table')\n",
    "\n",
    "plt.xlabel('Iteration')\n",
    "plt.ylabel('Execution Time (seconds)')\n",
    "plt.title('Execution Time of Queries to retrieve time series')\n",
    "plt.legend()\n",
    "\n",
    "plt.show()"
   ]
  },
  {
   "cell_type": "markdown",
   "id": "f503ae35",
   "metadata": {},
   "source": [
    "### experiment 2 with binned time"
   ]
  },
  {
   "cell_type": "code",
   "execution_count": null,
   "id": "3c020e18",
   "metadata": {},
   "outputs": [],
   "source": [
    "# Create a temporary table\n",
    "cursor.execute('''\n",
    "    CREATE TEMPORARY TABLE temp_table AS\n",
    "    SELECT name\n",
    "    FROM DWD\n",
    "    GROUP BY name\n",
    "    ORDER BY AVG(temp) ASC, name\n",
    "    LIMIT 2\n",
    "''')\n",
    "\n",
    "query = '''\n",
    "    SELECT \n",
    "        AVG(soil_temp_5) AS avg_soil_temp_5,\n",
    "        AVG(soil_temp_10) AS avg_soil_temp_10,\n",
    "        AVG(soil_temp_20) AS avg_soil_temp_20,\n",
    "        AVG(soil_temp_50) AS avg_soil_temp_50,\n",
    "        AVG(soil_temp_100) AS avg_soil_temp_100,\n",
    "        name,\n",
    "        FROM_UNIXTIME(FLOOR(UNIX_TIMESTAMP(datetime)/(6*60*60))*(6*60*60)) AS binnedDatetime\n",
    "    FROM DWD\n",
    "    WHERE datetime BETWEEN DATE_SUB(NOW(), INTERVAL 10 DAY) AND DATE_SUB(NOW(), INTERVAL 5 DAY)\n",
    "    AND name IN (SELECT name FROM temp_table)\n",
    "    GROUP BY name, binnedDatetime\n",
    "'''\n",
    "timer_SQL_25_1 = []\n",
    "for _ in range(80):\n",
    "    start_time = time.time()\n",
    "    cursor.execute(query)\n",
    "    end_time = time.time()\n",
    "    monitoring_result = cursor.fetchall()\n",
    "    execution_time = end_time - start_time\n",
    "    print(monitoring_result)\n",
    "    timer_SQL_2_1.append(execution_time)\n",
    "\n",
    "# Drop the temporary table\n",
    "cursor.execute('DROP TABLE temp_table')"
   ]
  },
  {
   "cell_type": "code",
   "execution_count": null,
   "id": "7c838c7e",
   "metadata": {
    "scrolled": false
   },
   "outputs": [],
   "source": [
    "query = '''\n",
    "SELECT              \n",
    "AVG(V_TE005) AS avg_V_TE005,        \n",
    "AVG(V_TE010) AS avg_V_TE010,       \n",
    "AVG(V_TE020) AS avg_V_TE020,\n",
    "AVG(V_TE050) AS avg_V_TE050,              \n",
    "AVG(V_TE100) AS avg_V_TE100,\n",
    "name,\n",
    "BIN(time, 6h) AS binnedTime\n",
    "FROM \"myclimab\".\"clima-integra\"\n",
    "WHERE time BETWEEN ago(10d) AND ago(5d)\n",
    "    AND measure_name = 'soil_temperature'\n",
    "    \n",
    "    AND name IN (\n",
    "        SELECT name\n",
    "        FROM \"myclimab\".\"clima-integra\"\n",
    "        GROUP BY name\n",
    "        ORDER BY avg(TT_TU) ASC\n",
    "            ,name LIMIT 2\n",
    "        )\n",
    "GROUP BY name, binnedTime\n",
    "'''\n",
    "monitoring_vars = [\"V_TE002\",'V_TE005','V_TE010','V_TE020','V_TE050','V_TE100']\n",
    "# Create a Timestream Query client\n",
    "# BIN(time, 10m) AS binnedTime\n",
    "timer_TS_25_1 =[]\n",
    "\n",
    "#do 30 times\n",
    "for _ in range(80):\n",
    "    \n",
    "    start_time = time.time()\n",
    "    query_response = timestream_query_client.query(\n",
    "            QueryString=query\n",
    "        )\n",
    "    end_time = time.time()\n",
    "    execution_time = end_time - start_time\n",
    "    timer_TS_25_1.append(execution_time)\n",
    "\n",
    "# Extract the query results\n",
    "#query1 = [row['Data'] for row in query_response['Rows']]"
   ]
  },
  {
   "cell_type": "code",
   "execution_count": null,
   "id": "e8f8112e",
   "metadata": {},
   "outputs": [],
   "source": [
    "import boto3\n",
    "import pprint\n",
    "pp = pprint.PrettyPrinter(indent=4)\n",
    "\n",
    "# Create a Timestream Write client\n",
    "timestream_write_client = boto3.client('timestream-write')\n",
    "\n",
    "# Specify your database name\n",
    "database_name = 'myclimab'\n",
    "table_name = 'first'\n",
    "# List all tables in the database\n",
    "tables = timestream_write_client.list_tables(DatabaseName=database_name)\n",
    "\n",
    "for table in tables['Tables']:\n",
    "    table_name = table['TableName']\n",
    "\n",
    "    # Create a Timestream Query client\n",
    "    timestream_query_client = boto3.client('timestream-query')\n",
    "\n",
    "    # Query the table to get the cardinality\n",
    "    cardinality_query = f\"SELECT COUNT(*) FROM {database_name}.{table_name}\"\n",
    "    cardinality_response = timestream_query_client.query(QueryString=cardinality_query)\n",
    "    cardinality = cardinality_response['Rows'][0]['Data'][0]['ScalarValue']\n",
    "\n",
    "    print(f\"Table: {table_name}, Cardinality: {cardinality}\")\n"
   ]
  }
 ],
 "metadata": {
  "kernelspec": {
   "display_name": "conda_python3",
   "language": "python",
   "name": "conda_python3"
  },
  "language_info": {
   "codemirror_mode": {
    "name": "ipython",
    "version": 3
   },
   "file_extension": ".py",
   "mimetype": "text/x-python",
   "name": "python",
   "nbconvert_exporter": "python",
   "pygments_lexer": "ipython3",
   "version": "3.10.13"
  }
 },
 "nbformat": 4,
 "nbformat_minor": 5
}
